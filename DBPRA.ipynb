{
 "cells": [
  {
   "cell_type": "code",
   "execution_count": 2,
   "id": "77af4aed-fba2-4b02-934f-034f1a130ad8",
   "metadata": {},
   "outputs": [
    {
     "name": "stdout",
     "output_type": "stream",
     "text": [
      "Defaulting to user installation because normal site-packages is not writeable\n",
      "Requirement already satisfied: pyodbc in c:\\programdata\\anaconda3\\lib\\site-packages (5.0.1)\n",
      "Requirement already satisfied: pandas in c:\\programdata\\anaconda3\\lib\\site-packages (2.2.2)\n",
      "Requirement already satisfied: numpy>=1.26.0 in c:\\programdata\\anaconda3\\lib\\site-packages (from pandas) (1.26.4)\n",
      "Requirement already satisfied: python-dateutil>=2.8.2 in c:\\programdata\\anaconda3\\lib\\site-packages (from pandas) (2.9.0.post0)\n",
      "Requirement already satisfied: pytz>=2020.1 in c:\\programdata\\anaconda3\\lib\\site-packages (from pandas) (2024.1)\n",
      "Requirement already satisfied: tzdata>=2022.7 in c:\\programdata\\anaconda3\\lib\\site-packages (from pandas) (2023.3)\n",
      "Requirement already satisfied: six>=1.5 in c:\\programdata\\anaconda3\\lib\\site-packages (from python-dateutil>=2.8.2->pandas) (1.16.0)\n",
      "Note: you may need to restart the kernel to use updated packages.\n"
     ]
    }
   ],
   "source": [
    "pip install pyodbc pandas\n"
   ]
  },
  {
   "cell_type": "code",
   "execution_count": 4,
   "id": "95eeafdd-0bb1-4c63-a5a9-a4c64885df81",
   "metadata": {},
   "outputs": [
    {
     "name": "stdout",
     "output_type": "stream",
     "text": [
      "   PatientID      PatientName Gender PhoneNumber                       Email  \\\n",
      "0          1         John Doe      M    555-1234         johndoe@example.com   \n",
      "1          2       Jane Smith      F    555-2345       janesmith@example.com   \n",
      "2          3  Michael Johnson      M    555-3456  michaeljohnson@example.com   \n",
      "3          4      Emily Davis      F    555-4567      emilydavis@example.com   \n",
      "4          5   David Martinez      M    555-5678   davidmartinez@example.com   \n",
      "\n",
      "      AppointmentDate                  Reason     Status  \n",
      "0 2024-12-28 10:00:00         Routine checkup  Scheduled  \n",
      "1 2024-12-29 11:00:00   Periodontal treatment  Scheduled  \n",
      "2 2025-01-02 14:00:00    Root canal treatment  Scheduled  \n",
      "3 2024-12-30 09:00:00  General dental checkup  Scheduled  \n",
      "4 2024-12-31 13:00:00  Pediatric consultation  Scheduled  \n"
     ]
    },
    {
     "name": "stderr",
     "output_type": "stream",
     "text": [
      "C:\\Users\\User\\AppData\\Local\\Temp\\ipykernel_20004\\1156870024.py:18: UserWarning: pandas only supports SQLAlchemy connectable (engine/connection) or database string URI or sqlite3 DBAPI2 connection. Other DBAPI2 objects are not tested. Please consider using SQLAlchemy.\n",
      "  df = pd.read_sql_query(query, connection)\n"
     ]
    }
   ],
   "source": [
    "import pyodbc\n",
    "import pandas as pd\n",
    "\n",
    "# 連接到 SQL Server 的資料庫\n",
    "connection = pyodbc.connect(\n",
    "    'Driver={ODBC Driver 17 for SQL Server};'  # 使用正確的 ODBC 驅動程式版本\n",
    "    'Server=localhost;'                        # 資料庫伺服器\n",
    "    'Database=DentalClinic;'                   # 資料庫名稱\n",
    "    'Trusted_Connection=yes;'                  # 使用 Windows 驗證\n",
    ")\n",
    "\n",
    "# 定義要執行的 SQL 查詢\n",
    "query = \"\"\"\n",
    "SELECT * FROM PatientAppointmentsOverview;\n",
    "\"\"\"\n",
    "\n",
    "# 執行查詢並將結果讀取為 Pandas 資料框\n",
    "df = pd.read_sql_query(query, connection)\n",
    "\n",
    "# 關閉資料庫連接\n",
    "connection.close()\n",
    "\n",
    "# 顯示查詢結果\n",
    "print(df)\n"
   ]
  },
  {
   "cell_type": "code",
   "execution_count": null,
   "id": "a67b3196-3fd8-4860-8607-796d0e918b1f",
   "metadata": {},
   "outputs": [],
   "source": []
  }
 ],
 "metadata": {
  "kernelspec": {
   "display_name": "Python 3 (ipykernel)",
   "language": "python",
   "name": "python3"
  },
  "language_info": {
   "codemirror_mode": {
    "name": "ipython",
    "version": 3
   },
   "file_extension": ".py",
   "mimetype": "text/x-python",
   "name": "python",
   "nbconvert_exporter": "python",
   "pygments_lexer": "ipython3",
   "version": "3.12.4"
  }
 },
 "nbformat": 4,
 "nbformat_minor": 5
}
