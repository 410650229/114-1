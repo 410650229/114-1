{
 "cells": [
  {
   "cell_type": "code",
   "execution_count": 2,
   "id": "3c987952-4ae3-4718-bd56-df6e7db05674",
   "metadata": {},
   "outputs": [
    {
     "name": "stdout",
     "output_type": "stream",
     "text": [
      "投籃者：小徐\n",
      "最多進了 10 球\n",
      "最少進了 5 球\n",
      "進球數最多的三回合各投入：[10, 9, 8]\n",
      "進球數最少的三回合各投入：[5, 6, 6]\n",
      "平均進球數：7.29\n"
     ]
    }
   ],
   "source": [
    "# 第二題\n",
    "# 投籃者的資料\n",
    "score = ['小徐', 5, 9, 6, 8, 7, 10, 6]\n",
    "\n",
    "# 取得投籃者的姓名和進球數\n",
    "player_name = score[0]\n",
    "scores = score[1:]\n",
    "\n",
    "# (1) 計算小徐最多進了幾球\n",
    "max_score = max(scores)\n",
    "\n",
    "# (2) 計算小徐最少進了幾球\n",
    "min_score = min(scores)\n",
    "\n",
    "# (3) 計算小徐進球數最多的三回合各投入多少球\n",
    "top_3_scores = sorted(scores, reverse=True)[:3]\n",
    "\n",
    "# (4) 計算小徐進球數最少的三回合各投入多少球\n",
    "lowest_3_scores = sorted(scores)[:3]\n",
    "\n",
    "# (5) 計算小徐進籃的平均球數\n",
    "average_score = sum(scores) / len(scores)\n",
    "\n",
    "# 輸出結果\n",
    "print(f\"投籃者：{player_name}\")\n",
    "print(f\"最多進了 {max_score} 球\")\n",
    "print(f\"最少進了 {min_score} 球\")\n",
    "print(f\"進球數最多的三回合各投入：{top_3_scores}\")\n",
    "print(f\"進球數最少的三回合各投入：{lowest_3_scores}\")\n",
    "print(f\"平均進球數：{average_score:.2f}\")\n"
   ]
  },
  {
   "cell_type": "code",
   "execution_count": 4,
   "id": "f8531704-1454-4e98-9adb-8589a0f3f333",
   "metadata": {},
   "outputs": [
    {
     "name": "stdout",
     "output_type": "stream",
     "text": [
      "(1) 取出的字串：'專業'\n",
      "(2) 取出的字串：'顧客關係管理, 人工智慧, 知識管理, 正向心理學'\n",
      "(3) 取出的字串：'人工智慧'\n"
     ]
    }
   ],
   "source": [
    "# 第三題\n",
    "# 原始字串\n",
    "text = ' 專業。顧客關係管理, 人工智慧, 知識管理, 正向心理學'\n",
    "\n",
    "# (1) 取出 '專業'\n",
    "profession = text.split('。')[0].strip()\n",
    "\n",
    "# (2) 取出 '顧客關係管理, 人工智慧, 知識管理, 正向心理學'\n",
    "subjects = text.split('。')[1].strip()\n",
    "\n",
    "# (3) 取出 '人工智慧'\n",
    "ai_subject = subjects.split(', ')[1]\n",
    "\n",
    "# 輸出結果\n",
    "print(f\"(1) 取出的字串：'{profession}'\")\n",
    "print(f\"(2) 取出的字串：'{subjects}'\")\n",
    "print(f\"(3) 取出的字串：'{ai_subject}'\")\n"
   ]
  },
  {
   "cell_type": "code",
   "execution_count": null,
   "id": "ef093ab3-524e-4502-b094-e5bbefb7458a",
   "metadata": {},
   "outputs": [],
   "source": []
  }
 ],
 "metadata": {
  "kernelspec": {
   "display_name": "Python 3 (ipykernel)",
   "language": "python",
   "name": "python3"
  },
  "language_info": {
   "codemirror_mode": {
    "name": "ipython",
    "version": 3
   },
   "file_extension": ".py",
   "mimetype": "text/x-python",
   "name": "python",
   "nbconvert_exporter": "python",
   "pygments_lexer": "ipython3",
   "version": "3.12.3"
  }
 },
 "nbformat": 4,
 "nbformat_minor": 5
}
