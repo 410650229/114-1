import requests
import os
import zipfile
from concurrent.futures import ThreadPoolExecutor
from io import BytesIO

# 設定下載目錄
download_dir = r'C:\Users\User\Desktop\學\大學\資料探勘\plvr_land_csv'
if not os.path.exists(download_dir):
    os.makedirs(download_dir)

# 定義年份與季節
years = [101, 102, 103, 104, 105, 106, 107, 108, 109, 110, 111, 112, 113]
seasons = [1, 2, 3, 4]

# 定義函數：下載並直接解壓縮檔案
def download_and_extract_in_memory(year, season):
    url = f'https://plvr.land.moi.gov.tw//DownloadSeason?season={year}S{season}&type=zip&fileName=lvr_landcsv.zip'
    try:
        print(f"Downloading {year}Q{season}...")
        response = requests.get(url, timeout=10)
        response.raise_for_status()
        
        # 使用 BytesIO 儲存檔案流，避免存儲到硬碟
        with zipfile.ZipFile(BytesIO(response.content)) as zfile:
            extract_dir = os.path.join(download_dir, f"{year}Q{season}")
            if not os.path.exists(extract_dir):
                os.makedirs(extract_dir)
            
            # 解壓縮到目標資料夾
            zfile.extractall(extract_dir)
            print(f"{year}Q{season} extracted to {extract_dir}")
            
            # 檔案重命名
            for file_name in os.listdir(extract_dir):
                old_path = os.path.join(extract_dir, file_name)
                new_file_name = f"{year}Q{season}_{file_name}"
                new_path = os.path.join(extract_dir, new_file_name)
                os.rename(old_path, new_path)
                print(f"Renamed {file_name} to {new_file_name}")

    except requests.exceptions.RequestException as e:
        print(f"Error downloading {year}Q{season}: {e}")
    except zipfile.BadZipFile:
        print(f"Error: {year}Q{season} is not a valid ZIP file.")

# 使用 ThreadPoolExecutor 提高並行數量
max_workers = 8  # 根據硬體性能調整
with ThreadPoolExecutor(max_workers=max_workers) as executor:
    for year in years:
        for season in seasons:
            executor.submit(download_and_extract_in_memory, year, season)
